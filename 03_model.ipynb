{
 "cells": [
  {
   "cell_type": "markdown",
   "id": "38cac848",
   "metadata": {},
   "source": [
    "<div class=\"alert alert-success\">\n",
    "\n",
    "\n",
    "\n",
    "# Model"
   ]
  },
  {
   "cell_type": "code",
   "execution_count": 1,
   "id": "efa6adfd",
   "metadata": {},
   "outputs": [
    {
     "data": {
      "text/html": [
       "<style>table {align:left;display:block}</style>"
      ],
      "text/plain": [
       "<IPython.core.display.HTML object>"
      ]
     },
     "execution_count": 1,
     "metadata": {},
     "output_type": "execute_result"
    }
   ],
   "source": [
    "import numpy as np\n",
    "import pandas as pd\n",
    "import seaborn as sns\n",
    "from scipy import stats\n",
    "\n",
    "import matplotlib.pyplot as plt\n",
    "# Increases Display Resolution for Graphs \n",
    "# Only works inside notebook\n",
    "%matplotlib inline \n",
    "%config InlineBackend.figure_format = 'retina'\n",
    "\n",
    "# Decision Tree and Model Evaluation Imports\n",
    "from sklearn.model_selection import train_test_split\n",
    "from sklearn.ensemble import RandomForestClassifier\n",
    "from sklearn.neighbors import KNeighborsClassifier\n",
    "from sklearn.linear_model import LogisticRegression\n",
    "from sklearn.feature_selection import RFE\n",
    "from sklearn.tree import DecisionTreeClassifier\n",
    "from sklearn.tree import plot_tree, export_text\n",
    "\n",
    "# import sklearn.metrics\n",
    "from sklearn.metrics import ConfusionMatrixDisplay\n",
    "from sklearn.metrics import confusion_matrix \n",
    "from sklearn.metrics import plot_confusion_matrix \n",
    "from sklearn.metrics import classification_report \n",
    "from sklearn.metrics import mean_squared_error\n",
    "\n",
    "# import sklearn.preprocessing\n",
    "import sklearn.preprocessing\n",
    "from sklearn.preprocessing import MinMaxScaler \n",
    "from sklearn.preprocessing import StandardScaler\n",
    "from sklearn.preprocessing import RobustScaler\n",
    "from sklearn.preprocessing import QuantileTransformer\n",
    "\n",
    "# import Environment and Helper Files\n",
    "from env import user, password, host\n",
    "import QMCBT_00_quicktips as qt\n",
    "import QMCBT_01_acquire as acquire\n",
    "import QMCBT_02_prepare as prepare\n",
    "#import QMCBT_03_explore as explore\n",
    "#import QMCBT_04_modeling as model\n",
    "#import QMCBT_05_evaluate as evaluate\n",
    "import QMCBT_explore_evaluate as ee\n",
    "import QMCBT_wrangle as w\n",
    "\n",
    "# set constants\n",
    "α = 0.05\n",
    "alpha = 0.05\n",
    "np.random.seed(1992)\n",
    "#random_state=1992\n",
    "\n",
    "# Turns off warnings\n",
    "import warnings\n",
    "warnings.filterwarnings(\"ignore\")\n",
    "\n",
    "# assists with processor speed\n",
    "#import matplotlib as mpl\n",
    "#mpl.rcParams['agg.path.chunksize'] = 10000\n",
    "\n",
    "# Left Align Tables in Jupyter Notebook\n",
    "from IPython.core.display import HTML\n",
    "table_css = 'table {align:left;display:block}'\n",
    "HTML('<style>{}</style>'.format(table_css))"
   ]
  },
  {
   "cell_type": "code",
   "execution_count": 2,
   "id": "9556ef13",
   "metadata": {},
   "outputs": [
    {
     "data": {
      "text/plain": [
       "<module 'QMCBT_wrangle' from '/Users/qmcbt/codeup-data-science/project-2_zillow/QMCBT_wrangle.py'>"
      ]
     },
     "execution_count": 2,
     "metadata": {},
     "output_type": "execute_result"
    }
   ],
   "source": [
    "# allows import reload without needing to clear kernel and rerun\n",
    "# reload(packagename) \n",
    "from importlib import reload\n",
    "\n",
    "# This code refreshes all of my helper files (w/o the need to stop the kernel)\n",
    "reload(qt)\n",
    "reload(acquire)\n",
    "reload(prepare)\n",
    "#reload(explore)\n",
    "#reload(model)\n",
    "#reload(evaluate)\n",
    "reload(ee)\n",
    "reload(w)"
   ]
  },
  {
   "cell_type": "code",
   "execution_count": 3,
   "id": "1b8dafdc",
   "metadata": {},
   "outputs": [],
   "source": [
    "# use custom wrangle function to automate Acquire and Prepare\n",
    "df = w.wrangle_zillow()"
   ]
  },
  {
   "cell_type": "code",
   "execution_count": 4,
   "id": "aa1d44ce",
   "metadata": {
    "scrolled": true
   },
   "outputs": [
    {
     "name": "stdout",
     "output_type": "stream",
     "text": [
      "________________________________________________________________\n",
      "|                              DF                              |\n",
      "|--------------------:--------------------:--------------------|\n",
      "|        Train       |      Validate      |        Test        |\n",
      ":--------------------------------------------------------------:\n",
      "\n",
      "\n",
      "Prepared df: (47603, 18)\n",
      "\n",
      "      Train: (28561, 18) - 60.0%\n",
      "   Validate: (9521, 18) - 20.0%\n",
      "       Test: (9521, 18) - 20.0%\n"
     ]
    }
   ],
   "source": [
    "# use predefined function to split data for train, validate, and test\n",
    "train, validate, test = w.split(df)"
   ]
  },
  {
   "cell_type": "code",
   "execution_count": 5,
   "id": "ada30c05",
   "metadata": {
    "scrolled": true
   },
   "outputs": [
    {
     "name": "stdout",
     "output_type": "stream",
     "text": [
      "_______________________________________________________________\n",
      "|                              DF                             |\n",
      "|-------------------:-------------------:---------------------|\n",
      "|       Train       |       Validate    |          Test       |\n",
      "|-------------------:-------------------:---------------------|\n",
      "| x_train | y_train |   x_val  |  y_val |   x_test  |  y_test |\n",
      ":-------------------------------------------------------------:\n",
      "\n",
      "\n",
      "   X_train: (28561, 3)   Index(['bedroomcnt', 'bathroomcnt', 'calculatedfinishedsquarefeet'], dtype='object')\n",
      "   y_train: (28561,)     Index(taxvaluedollarcnt)\n",
      "\n",
      "X_validate: (9521, 3)   Index(['bedroomcnt', 'bathroomcnt', 'calculatedfinishedsquarefeet'], dtype='object')\n",
      "y_validate: (9521,)     Index(taxvaluedollarcnt)\n",
      "\n",
      "    X_test: (9521, 3)   Index(['bedroomcnt', 'bathroomcnt', 'calculatedfinishedsquarefeet'], dtype='object')\n",
      "    y_test: (9521,)     Index(taxvaluedollarcnt)\n"
     ]
    },
    {
     "data": {
      "text/plain": [
       "(       bedroomcnt  bathroomcnt  calculatedfinishedsquarefeet\n",
       " 0               2          1.0                           926\n",
       " 1               3          3.0                          2425\n",
       " 2               5          4.5                          4483\n",
       " 3               4          3.0                          2362\n",
       " 4               2          2.0                          1522\n",
       " ...           ...          ...                           ...\n",
       " 28556           3          1.0                          1176\n",
       " 28557           3          1.0                          1102\n",
       " 28558           3          2.0                          1240\n",
       " 28559           4          4.0                          3272\n",
       " 28560           3          3.0                          2860\n",
       " \n",
       " [28561 rows x 3 columns],\n",
       " 0         115097\n",
       " 1         776889\n",
       " 2        1133856\n",
       " 3         676411\n",
       " 4         860000\n",
       "           ...   \n",
       " 28556     425000\n",
       " 28557     362332\n",
       " 28558      49237\n",
       " 28559    1397970\n",
       " 28560     428949\n",
       " Name: taxvaluedollarcnt, Length: 28561, dtype: Int64,\n",
       "       bedroomcnt  bathroomcnt  calculatedfinishedsquarefeet\n",
       " 0              5          4.0                          4024\n",
       " 1              3          2.0                          1254\n",
       " 2              4          2.0                          1292\n",
       " 3              3          2.0                          1378\n",
       " 4              4          3.0                          2150\n",
       " ...          ...          ...                           ...\n",
       " 9516           3          1.0                          1798\n",
       " 9517           5          7.0                          6641\n",
       " 9518           3          4.0                          3435\n",
       " 9519           2          1.0                          1278\n",
       " 9520           5          4.5                          4211\n",
       " \n",
       " [9521 rows x 3 columns],\n",
       " 0       1663334\n",
       " 1         45302\n",
       " 2        388528\n",
       " 3        130715\n",
       " 4        407342\n",
       "          ...   \n",
       " 9516     258220\n",
       " 9517    1637431\n",
       " 9518    1015473\n",
       " 9519     228983\n",
       " 9520    1267425\n",
       " Name: taxvaluedollarcnt, Length: 9521, dtype: Int64,\n",
       "       bedroomcnt  bathroomcnt  calculatedfinishedsquarefeet\n",
       " 0              4          3.0                          2655\n",
       " 1              4          2.0                          1462\n",
       " 2              3          3.0                          2273\n",
       " 3              3          3.0                          2165\n",
       " 4              4          3.0                          2484\n",
       " ...          ...          ...                           ...\n",
       " 9516           3          2.0                          2208\n",
       " 9517           3          2.0                          1899\n",
       " 9518           2          1.0                           840\n",
       " 9519           3          2.0                          2079\n",
       " 9520           5          3.0                          3602\n",
       " \n",
       " [9521 rows x 3 columns],\n",
       " 0        320000\n",
       " 1        440098\n",
       " 2        171043\n",
       " 3       1812185\n",
       " 4        147620\n",
       "          ...   \n",
       " 9516     466957\n",
       " 9517     859492\n",
       " 9518     485000\n",
       " 9519     291628\n",
       " 9520    1270451\n",
       " Name: taxvaluedollarcnt, Length: 9521, dtype: Int64)"
      ]
     },
     "execution_count": 5,
     "metadata": {},
     "output_type": "execute_result"
    }
   ],
   "source": [
    "# split data and target for evaluation of models\n",
    "target = 'taxvaluedollarcnt'\n",
    "feature_cols = ['bedroomcnt', 'bathroomcnt', 'calculatedfinishedsquarefeet']\n",
    "\n",
    "w.Xy_split(feature_cols, target, train, validate, test)"
   ]
  },
  {
   "cell_type": "code",
   "execution_count": 6,
   "id": "24c19660",
   "metadata": {},
   "outputs": [
    {
     "data": {
      "text/html": [
       "<div>\n",
       "<style scoped>\n",
       "    .dataframe tbody tr th:only-of-type {\n",
       "        vertical-align: middle;\n",
       "    }\n",
       "\n",
       "    .dataframe tbody tr th {\n",
       "        vertical-align: top;\n",
       "    }\n",
       "\n",
       "    .dataframe thead th {\n",
       "        text-align: right;\n",
       "    }\n",
       "</style>\n",
       "<table border=\"1\" class=\"dataframe\">\n",
       "  <thead>\n",
       "    <tr style=\"text-align: right;\">\n",
       "      <th></th>\n",
       "      <th>0</th>\n",
       "      <th>1</th>\n",
       "      <th>2</th>\n",
       "      <th>3</th>\n",
       "      <th>4</th>\n",
       "      <th>5</th>\n",
       "      <th>6</th>\n",
       "      <th>7</th>\n",
       "      <th>8</th>\n",
       "      <th>9</th>\n",
       "      <th>10</th>\n",
       "    </tr>\n",
       "  </thead>\n",
       "  <tbody>\n",
       "    <tr>\n",
       "      <th>bedroomcnt</th>\n",
       "      <td>2</td>\n",
       "      <td>3</td>\n",
       "      <td>5</td>\n",
       "      <td>4</td>\n",
       "      <td>2</td>\n",
       "      <td>2</td>\n",
       "      <td>3</td>\n",
       "      <td>3</td>\n",
       "      <td>2</td>\n",
       "      <td>3</td>\n",
       "      <td>3</td>\n",
       "    </tr>\n",
       "    <tr>\n",
       "      <th>bathroomcnt</th>\n",
       "      <td>1.0</td>\n",
       "      <td>3.0</td>\n",
       "      <td>4.5</td>\n",
       "      <td>3.0</td>\n",
       "      <td>2.0</td>\n",
       "      <td>2.0</td>\n",
       "      <td>2.0</td>\n",
       "      <td>3.0</td>\n",
       "      <td>1.5</td>\n",
       "      <td>3.0</td>\n",
       "      <td>2.0</td>\n",
       "    </tr>\n",
       "    <tr>\n",
       "      <th>fullbathcnt</th>\n",
       "      <td>1</td>\n",
       "      <td>3</td>\n",
       "      <td>4</td>\n",
       "      <td>3</td>\n",
       "      <td>2</td>\n",
       "      <td>2</td>\n",
       "      <td>2</td>\n",
       "      <td>3</td>\n",
       "      <td>1</td>\n",
       "      <td>3</td>\n",
       "      <td>2</td>\n",
       "    </tr>\n",
       "    <tr>\n",
       "      <th>bed_bath_ratio</th>\n",
       "      <td>2.0</td>\n",
       "      <td>1.0</td>\n",
       "      <td>1.11</td>\n",
       "      <td>1.33</td>\n",
       "      <td>1.0</td>\n",
       "      <td>1.0</td>\n",
       "      <td>1.5</td>\n",
       "      <td>1.0</td>\n",
       "      <td>1.33</td>\n",
       "      <td>1.0</td>\n",
       "      <td>1.5</td>\n",
       "    </tr>\n",
       "    <tr>\n",
       "      <th>fireplacecnt</th>\n",
       "      <td>0</td>\n",
       "      <td>0</td>\n",
       "      <td>0</td>\n",
       "      <td>0</td>\n",
       "      <td>0</td>\n",
       "      <td>0</td>\n",
       "      <td>0</td>\n",
       "      <td>1</td>\n",
       "      <td>0</td>\n",
       "      <td>0</td>\n",
       "      <td>0</td>\n",
       "    </tr>\n",
       "    <tr>\n",
       "      <th>age</th>\n",
       "      <td>66</td>\n",
       "      <td>68</td>\n",
       "      <td>15</td>\n",
       "      <td>56</td>\n",
       "      <td>63</td>\n",
       "      <td>69</td>\n",
       "      <td>20</td>\n",
       "      <td>31</td>\n",
       "      <td>40</td>\n",
       "      <td>29</td>\n",
       "      <td>60</td>\n",
       "    </tr>\n",
       "    <tr>\n",
       "      <th>calculatedfinishedsquarefeet</th>\n",
       "      <td>926</td>\n",
       "      <td>2425</td>\n",
       "      <td>4483</td>\n",
       "      <td>2362</td>\n",
       "      <td>1522</td>\n",
       "      <td>1785</td>\n",
       "      <td>1065</td>\n",
       "      <td>1620</td>\n",
       "      <td>1204</td>\n",
       "      <td>2184</td>\n",
       "      <td>1213</td>\n",
       "    </tr>\n",
       "    <tr>\n",
       "      <th>lotsizesquarefeet</th>\n",
       "      <td>7869</td>\n",
       "      <td>11580</td>\n",
       "      <td>10936</td>\n",
       "      <td>24277</td>\n",
       "      <td>10630</td>\n",
       "      <td>7215</td>\n",
       "      <td>7466</td>\n",
       "      <td>5700</td>\n",
       "      <td>902</td>\n",
       "      <td>10952</td>\n",
       "      <td>8549</td>\n",
       "    </tr>\n",
       "    <tr>\n",
       "      <th>has_taxdelinquency</th>\n",
       "      <td>1</td>\n",
       "      <td>0</td>\n",
       "      <td>0</td>\n",
       "      <td>0</td>\n",
       "      <td>0</td>\n",
       "      <td>0</td>\n",
       "      <td>0</td>\n",
       "      <td>0</td>\n",
       "      <td>0</td>\n",
       "      <td>0</td>\n",
       "      <td>0</td>\n",
       "    </tr>\n",
       "    <tr>\n",
       "      <th>has_hottuborspa</th>\n",
       "      <td>0</td>\n",
       "      <td>0</td>\n",
       "      <td>1</td>\n",
       "      <td>0</td>\n",
       "      <td>0</td>\n",
       "      <td>0</td>\n",
       "      <td>0</td>\n",
       "      <td>0</td>\n",
       "      <td>0</td>\n",
       "      <td>0</td>\n",
       "      <td>0</td>\n",
       "    </tr>\n",
       "    <tr>\n",
       "      <th>has_basement</th>\n",
       "      <td>0</td>\n",
       "      <td>0</td>\n",
       "      <td>0</td>\n",
       "      <td>0</td>\n",
       "      <td>0</td>\n",
       "      <td>0</td>\n",
       "      <td>0</td>\n",
       "      <td>0</td>\n",
       "      <td>0</td>\n",
       "      <td>0</td>\n",
       "      <td>0</td>\n",
       "    </tr>\n",
       "    <tr>\n",
       "      <th>has_pool</th>\n",
       "      <td>0</td>\n",
       "      <td>1</td>\n",
       "      <td>1</td>\n",
       "      <td>1</td>\n",
       "      <td>0</td>\n",
       "      <td>0</td>\n",
       "      <td>0</td>\n",
       "      <td>0</td>\n",
       "      <td>0</td>\n",
       "      <td>0</td>\n",
       "      <td>0</td>\n",
       "    </tr>\n",
       "    <tr>\n",
       "      <th>fips</th>\n",
       "      <td>6037</td>\n",
       "      <td>6037</td>\n",
       "      <td>6059</td>\n",
       "      <td>6037</td>\n",
       "      <td>6037</td>\n",
       "      <td>6037</td>\n",
       "      <td>6037</td>\n",
       "      <td>6059</td>\n",
       "      <td>6059</td>\n",
       "      <td>6037</td>\n",
       "      <td>6037</td>\n",
       "    </tr>\n",
       "    <tr>\n",
       "      <th>logerror</th>\n",
       "      <td>-0.075689</td>\n",
       "      <td>0.029119</td>\n",
       "      <td>0.056621</td>\n",
       "      <td>-0.05261</td>\n",
       "      <td>-0.186242</td>\n",
       "      <td>-0.034413</td>\n",
       "      <td>0.090559</td>\n",
       "      <td>0.048001</td>\n",
       "      <td>-0.037959</td>\n",
       "      <td>-0.006433</td>\n",
       "      <td>-0.041282</td>\n",
       "    </tr>\n",
       "    <tr>\n",
       "      <th>taxvaluedollarcnt</th>\n",
       "      <td>115097</td>\n",
       "      <td>776889</td>\n",
       "      <td>1133856</td>\n",
       "      <td>676411</td>\n",
       "      <td>860000</td>\n",
       "      <td>1087043</td>\n",
       "      <td>98129</td>\n",
       "      <td>556000</td>\n",
       "      <td>268300</td>\n",
       "      <td>471970</td>\n",
       "      <td>241620</td>\n",
       "    </tr>\n",
       "    <tr>\n",
       "      <th>county_Los Angeles County</th>\n",
       "      <td>1</td>\n",
       "      <td>1</td>\n",
       "      <td>0</td>\n",
       "      <td>1</td>\n",
       "      <td>1</td>\n",
       "      <td>1</td>\n",
       "      <td>1</td>\n",
       "      <td>0</td>\n",
       "      <td>0</td>\n",
       "      <td>1</td>\n",
       "      <td>1</td>\n",
       "    </tr>\n",
       "    <tr>\n",
       "      <th>county_Orange County</th>\n",
       "      <td>0</td>\n",
       "      <td>0</td>\n",
       "      <td>1</td>\n",
       "      <td>0</td>\n",
       "      <td>0</td>\n",
       "      <td>0</td>\n",
       "      <td>0</td>\n",
       "      <td>1</td>\n",
       "      <td>1</td>\n",
       "      <td>0</td>\n",
       "      <td>0</td>\n",
       "    </tr>\n",
       "    <tr>\n",
       "      <th>county_Ventura County</th>\n",
       "      <td>0</td>\n",
       "      <td>0</td>\n",
       "      <td>0</td>\n",
       "      <td>0</td>\n",
       "      <td>0</td>\n",
       "      <td>0</td>\n",
       "      <td>0</td>\n",
       "      <td>0</td>\n",
       "      <td>0</td>\n",
       "      <td>0</td>\n",
       "      <td>0</td>\n",
       "    </tr>\n",
       "  </tbody>\n",
       "</table>\n",
       "</div>"
      ],
      "text/plain": [
       "                                    0         1         2        3         4   \\\n",
       "bedroomcnt                           2         3         5        4         2   \n",
       "bathroomcnt                        1.0       3.0       4.5      3.0       2.0   \n",
       "fullbathcnt                          1         3         4        3         2   \n",
       "bed_bath_ratio                     2.0       1.0      1.11     1.33       1.0   \n",
       "fireplacecnt                         0         0         0        0         0   \n",
       "age                                 66        68        15       56        63   \n",
       "calculatedfinishedsquarefeet       926      2425      4483     2362      1522   \n",
       "lotsizesquarefeet                 7869     11580     10936    24277     10630   \n",
       "has_taxdelinquency                   1         0         0        0         0   \n",
       "has_hottuborspa                      0         0         1        0         0   \n",
       "has_basement                         0         0         0        0         0   \n",
       "has_pool                             0         1         1        1         0   \n",
       "fips                              6037      6037      6059     6037      6037   \n",
       "logerror                     -0.075689  0.029119  0.056621 -0.05261 -0.186242   \n",
       "taxvaluedollarcnt               115097    776889   1133856   676411    860000   \n",
       "county_Los Angeles County            1         1         0        1         1   \n",
       "county_Orange County                 0         0         1        0         0   \n",
       "county_Ventura County                0         0         0        0         0   \n",
       "\n",
       "                                    5         6         7         8   \\\n",
       "bedroomcnt                           2         3         3         2   \n",
       "bathroomcnt                        2.0       2.0       3.0       1.5   \n",
       "fullbathcnt                          2         2         3         1   \n",
       "bed_bath_ratio                     1.0       1.5       1.0      1.33   \n",
       "fireplacecnt                         0         0         1         0   \n",
       "age                                 69        20        31        40   \n",
       "calculatedfinishedsquarefeet      1785      1065      1620      1204   \n",
       "lotsizesquarefeet                 7215      7466      5700       902   \n",
       "has_taxdelinquency                   0         0         0         0   \n",
       "has_hottuborspa                      0         0         0         0   \n",
       "has_basement                         0         0         0         0   \n",
       "has_pool                             0         0         0         0   \n",
       "fips                              6037      6037      6059      6059   \n",
       "logerror                     -0.034413  0.090559  0.048001 -0.037959   \n",
       "taxvaluedollarcnt              1087043     98129    556000    268300   \n",
       "county_Los Angeles County            1         1         0         0   \n",
       "county_Orange County                 0         0         1         1   \n",
       "county_Ventura County                0         0         0         0   \n",
       "\n",
       "                                    9         10  \n",
       "bedroomcnt                           3         3  \n",
       "bathroomcnt                        3.0       2.0  \n",
       "fullbathcnt                          3         2  \n",
       "bed_bath_ratio                     1.0       1.5  \n",
       "fireplacecnt                         0         0  \n",
       "age                                 29        60  \n",
       "calculatedfinishedsquarefeet      2184      1213  \n",
       "lotsizesquarefeet                10952      8549  \n",
       "has_taxdelinquency                   0         0  \n",
       "has_hottuborspa                      0         0  \n",
       "has_basement                         0         0  \n",
       "has_pool                             0         0  \n",
       "fips                              6037      6037  \n",
       "logerror                     -0.006433 -0.041282  \n",
       "taxvaluedollarcnt               471970    241620  \n",
       "county_Los Angeles County            1         1  \n",
       "county_Orange County                 0         0  \n",
       "county_Ventura County                0         0  "
      ]
     },
     "execution_count": 6,
     "metadata": {},
     "output_type": "execute_result"
    }
   ],
   "source": [
    "train.head(11).T"
   ]
  },
  {
   "cell_type": "markdown",
   "id": "048b01a0",
   "metadata": {},
   "source": [
    "## Predictions"
   ]
  },
  {
   "cell_type": "code",
   "execution_count": 7,
   "id": "07294fa3",
   "metadata": {},
   "outputs": [
    {
     "data": {
      "text/html": [
       "<div>\n",
       "<style scoped>\n",
       "    .dataframe tbody tr th:only-of-type {\n",
       "        vertical-align: middle;\n",
       "    }\n",
       "\n",
       "    .dataframe tbody tr th {\n",
       "        vertical-align: top;\n",
       "    }\n",
       "\n",
       "    .dataframe thead th {\n",
       "        text-align: right;\n",
       "    }\n",
       "</style>\n",
       "<table border=\"1\" class=\"dataframe\">\n",
       "  <thead>\n",
       "    <tr style=\"text-align: right;\">\n",
       "      <th></th>\n",
       "      <th>actual</th>\n",
       "      <th>logerror</th>\n",
       "    </tr>\n",
       "  </thead>\n",
       "  <tbody>\n",
       "    <tr>\n",
       "      <th>0</th>\n",
       "      <td>1663334</td>\n",
       "      <td>0.04901</td>\n",
       "    </tr>\n",
       "    <tr>\n",
       "      <th>1</th>\n",
       "      <td>45302</td>\n",
       "      <td>-0.003143</td>\n",
       "    </tr>\n",
       "    <tr>\n",
       "      <th>2</th>\n",
       "      <td>388528</td>\n",
       "      <td>0.002243</td>\n",
       "    </tr>\n",
       "    <tr>\n",
       "      <th>3</th>\n",
       "      <td>130715</td>\n",
       "      <td>-0.02305</td>\n",
       "    </tr>\n",
       "    <tr>\n",
       "      <th>4</th>\n",
       "      <td>407342</td>\n",
       "      <td>-0.023093</td>\n",
       "    </tr>\n",
       "  </tbody>\n",
       "</table>\n",
       "</div>"
      ],
      "text/plain": [
       "    actual  logerror\n",
       "0  1663334   0.04901\n",
       "1    45302 -0.003143\n",
       "2   388528  0.002243\n",
       "3   130715  -0.02305\n",
       "4   407342 -0.023093"
      ]
     },
     "execution_count": 7,
     "metadata": {},
     "output_type": "execute_result"
    }
   ],
   "source": [
    "predictions = pd.DataFrame({'actual': validate.taxvaluedollarcnt,\n",
    "                            'logerror': validate.logerror                           \n",
    "                           })\n",
    "predictions.head()"
   ]
  },
  {
   "cell_type": "markdown",
   "id": "b2fc9135",
   "metadata": {
    "slideshow": {
     "slide_type": "slide"
    }
   },
   "source": [
    "<div class=\"alert alert-warning\">\n",
    "\n",
    "\n",
    "\n",
    "## Simple Model\n",
    "\n",
    "$$ y = mx + b $$\n",
    "\n",
    "$$y = f(x)$$"
   ]
  },
  {
   "cell_type": "code",
   "execution_count": 59,
   "id": "311af606",
   "metadata": {},
   "outputs": [],
   "source": [
    "from sklearn.linear_model import LinearRegression\n",
    "\n",
    "# X must be 2-d\n",
    "X_train = train[['calculatedfinishedsquarefeet']]\n",
    "# y can be 1-d\n",
    "y_train = train.taxvaluedollarcnt\n",
    "\n",
    "# 1. make the thing\n",
    "lm = LinearRegression()\n",
    "# 2. fit the thing\n",
    "lm.fit(X_train, y_train)\n",
    "# 3. use the thing (make predictions)\n",
    "X_validate = validate[['calculatedfinishedsquarefeet']]\n",
    "predictions['simple_lm'] = lm.predict(X_validate)"
   ]
  },
  {
   "cell_type": "code",
   "execution_count": 60,
   "id": "fbba28a4",
   "metadata": {},
   "outputs": [
    {
     "data": {
      "text/html": [
       "<div>\n",
       "<style scoped>\n",
       "    .dataframe tbody tr th:only-of-type {\n",
       "        vertical-align: middle;\n",
       "    }\n",
       "\n",
       "    .dataframe tbody tr th {\n",
       "        vertical-align: top;\n",
       "    }\n",
       "\n",
       "    .dataframe thead th {\n",
       "        text-align: right;\n",
       "    }\n",
       "</style>\n",
       "<table border=\"1\" class=\"dataframe\">\n",
       "  <thead>\n",
       "    <tr style=\"text-align: right;\">\n",
       "      <th></th>\n",
       "      <th>actual</th>\n",
       "      <th>logerror</th>\n",
       "      <th>simple_lm</th>\n",
       "      <th>multiple_rfe</th>\n",
       "      <th>polynomial degree 2</th>\n",
       "      <th>polynomial only interaction</th>\n",
       "      <th>lasso_lars</th>\n",
       "      <th>glm</th>\n",
       "      <th>baseline</th>\n",
       "    </tr>\n",
       "  </thead>\n",
       "  <tbody>\n",
       "    <tr>\n",
       "      <th>0</th>\n",
       "      <td>1663334</td>\n",
       "      <td>0.04901</td>\n",
       "      <td>983390.124531</td>\n",
       "      <td>410135.180989</td>\n",
       "      <td>931010.714799</td>\n",
       "      <td>935951.199147</td>\n",
       "      <td>952006.761725</td>\n",
       "      <td>449783.851861</td>\n",
       "      <td>449783.851861</td>\n",
       "    </tr>\n",
       "    <tr>\n",
       "      <th>1</th>\n",
       "      <td>45302</td>\n",
       "      <td>-0.003143</td>\n",
       "      <td>294426.378284</td>\n",
       "      <td>410135.180989</td>\n",
       "      <td>293207.372986</td>\n",
       "      <td>302881.887929</td>\n",
       "      <td>304346.928579</td>\n",
       "      <td>449783.851861</td>\n",
       "      <td>449783.851861</td>\n",
       "    </tr>\n",
       "    <tr>\n",
       "      <th>2</th>\n",
       "      <td>388528</td>\n",
       "      <td>0.002243</td>\n",
       "      <td>303877.866500</td>\n",
       "      <td>410135.180989</td>\n",
       "      <td>242519.921994</td>\n",
       "      <td>258440.924719</td>\n",
       "      <td>243292.550466</td>\n",
       "      <td>449783.851861</td>\n",
       "      <td>449783.851861</td>\n",
       "    </tr>\n",
       "    <tr>\n",
       "      <th>3</th>\n",
       "      <td>130715</td>\n",
       "      <td>-0.02305</td>\n",
       "      <td>325268.076672</td>\n",
       "      <td>410135.180989</td>\n",
       "      <td>326422.853321</td>\n",
       "      <td>333055.259481</td>\n",
       "      <td>334969.014207</td>\n",
       "      <td>449783.851861</td>\n",
       "      <td>449783.851861</td>\n",
       "    </tr>\n",
       "    <tr>\n",
       "      <th>4</th>\n",
       "      <td>407342</td>\n",
       "      <td>-0.023093</td>\n",
       "      <td>517282.521475</td>\n",
       "      <td>410135.180989</td>\n",
       "      <td>499389.755074</td>\n",
       "      <td>504174.009760</td>\n",
       "      <td>507417.168764</td>\n",
       "      <td>449783.851861</td>\n",
       "      <td>449783.851861</td>\n",
       "    </tr>\n",
       "  </tbody>\n",
       "</table>\n",
       "</div>"
      ],
      "text/plain": [
       "    actual  logerror      simple_lm   multiple_rfe  polynomial degree 2  \\\n",
       "0  1663334   0.04901  983390.124531  410135.180989        931010.714799   \n",
       "1    45302 -0.003143  294426.378284  410135.180989        293207.372986   \n",
       "2   388528  0.002243  303877.866500  410135.180989        242519.921994   \n",
       "3   130715  -0.02305  325268.076672  410135.180989        326422.853321   \n",
       "4   407342 -0.023093  517282.521475  410135.180989        499389.755074   \n",
       "\n",
       "   polynomial only interaction     lasso_lars            glm       baseline  \n",
       "0                935951.199147  952006.761725  449783.851861  449783.851861  \n",
       "1                302881.887929  304346.928579  449783.851861  449783.851861  \n",
       "2                258440.924719  243292.550466  449783.851861  449783.851861  \n",
       "3                333055.259481  334969.014207  449783.851861  449783.851861  \n",
       "4                504174.009760  507417.168764  449783.851861  449783.851861  "
      ]
     },
     "execution_count": 60,
     "metadata": {},
     "output_type": "execute_result"
    }
   ],
   "source": [
    "predictions.head()"
   ]
  },
  {
   "cell_type": "markdown",
   "id": "18ab479c",
   "metadata": {
    "slideshow": {
     "slide_type": "slide"
    }
   },
   "source": [
    "### Examine The Model\n",
    "\n",
    "- **intercept**: Value we predict if x is 0. Depending on our x variables, this may not be valuable\n",
    "- **coefficients**: define how our prediction changes as x changes. A one-unit increase in x causes our model to predict a `coef` unit change in y, holding all other independent variables constant"
   ]
  },
  {
   "cell_type": "code",
   "execution_count": 61,
   "id": "173b63bc",
   "metadata": {},
   "outputs": [
    {
     "data": {
      "text/plain": [
       "(array([248.7233741]), -17472.732831977657)"
      ]
     },
     "execution_count": 61,
     "metadata": {},
     "output_type": "execute_result"
    }
   ],
   "source": [
    "lm.coef_, lm.intercept_"
   ]
  },
  {
   "cell_type": "code",
   "execution_count": 62,
   "id": "92abba76",
   "metadata": {},
   "outputs": [
    {
     "name": "stdout",
     "output_type": "stream",
     "text": [
      "taxvaluedollarcnt (y) = 248.723 * calculatedfinishedsquarefeet (X) + -17472.733\n"
     ]
    }
   ],
   "source": [
    "print('taxvaluedollarcnt (y) = {:.3f} * calculatedfinishedsquarefeet (X) + {:.3f}'.format(lm.coef_[0], lm.intercept_))"
   ]
  },
  {
   "cell_type": "code",
   "execution_count": 63,
   "id": "09ad5115",
   "metadata": {
    "slideshow": {
     "slide_type": "slide"
    }
   },
   "outputs": [
    {
     "data": {
      "text/plain": [
       "<matplotlib.legend.Legend at 0x13d7dd0a0>"
      ]
     },
     "execution_count": 63,
     "metadata": {},
     "output_type": "execute_result"
    },
    {
     "data": {
      "image/png": "[encoded data removed]",
      "text/plain": [
       "<Figure size 1152x648 with 1 Axes>"
      ]
     },
     "metadata": {
      "image/png": {
       "height": 544,
       "width": 943
      },
      "needs_background": "light"
     },
     "output_type": "display_data"
    }
   ],
   "source": [
    "x_pred = np.array([-25, 100]).reshape(-1, 1)\n",
    "y_pred = lm.predict(x_pred)\n",
    "\n",
    "plt.figure(figsize=(16, 9))\n",
    "plt.scatter(train.calculatedfinishedsquarefeet, train.taxvaluedollarcnt, label='actual')\n",
    "plt.scatter(train.calculatedfinishedsquarefeet, lm.predict(train[['calculatedfinishedsquarefeet']]), label='simple_lm')\n",
    "plt.plot(x_pred, y_pred, ls='--', c='red', label='linear model prediction line')\n",
    "plt.hlines(0, -25, 100, ls=':', color='grey')\n",
    "plt.vlines(0, -10, 100, ls=':', color='grey')\n",
    "\n",
    "plt.xlabel('Property SQFT')\n",
    "plt.ylabel('Tax Assessment Value')\n",
    "plt.legend()"
   ]
  },
  {
   "cell_type": "markdown",
   "id": "a9608bce",
   "metadata": {
    "slideshow": {
     "slide_type": "slide"
    }
   },
   "source": [
    "### Model Interpretation"
   ]
  },
  {
   "cell_type": "code",
   "execution_count": 13,
   "id": "ddad9ad7",
   "metadata": {},
   "outputs": [
    {
     "name": "stdout",
     "output_type": "stream",
     "text": [
      "For every 1 foot increase in Property SQFT, we predict a 248.72 dollar increase in Tax Assessment Value\n"
     ]
    }
   ],
   "source": [
    "# taxvaluedollarcnt (y) = 248.723 * calculatedfinishedsquarefeet (X) + -17472.733\n",
    "\n",
    "print(f'For every 1 foot increase in Property SQFT, we predict a {lm.coef_[0]:.2f} dollar increase in Tax Assessment Value')"
   ]
  },
  {
   "cell_type": "code",
   "execution_count": 14,
   "id": "c8429583",
   "metadata": {},
   "outputs": [
    {
     "data": {
      "text/html": [
       "<div>\n",
       "<style scoped>\n",
       "    .dataframe tbody tr th:only-of-type {\n",
       "        vertical-align: middle;\n",
       "    }\n",
       "\n",
       "    .dataframe tbody tr th {\n",
       "        vertical-align: top;\n",
       "    }\n",
       "\n",
       "    .dataframe thead th {\n",
       "        text-align: right;\n",
       "    }\n",
       "</style>\n",
       "<table border=\"1\" class=\"dataframe\">\n",
       "  <thead>\n",
       "    <tr style=\"text-align: right;\">\n",
       "      <th></th>\n",
       "      <th>SQFT</th>\n",
       "      <th>predicted_taxvaluedollarcnt</th>\n",
       "    </tr>\n",
       "  </thead>\n",
       "  <tbody>\n",
       "    <tr>\n",
       "      <th>0</th>\n",
       "      <td>1000</td>\n",
       "      <td>231250.641264</td>\n",
       "    </tr>\n",
       "    <tr>\n",
       "      <th>1</th>\n",
       "      <td>1001</td>\n",
       "      <td>231499.364638</td>\n",
       "    </tr>\n",
       "    <tr>\n",
       "      <th>2</th>\n",
       "      <td>1002</td>\n",
       "      <td>231748.088012</td>\n",
       "    </tr>\n",
       "    <tr>\n",
       "      <th>3</th>\n",
       "      <td>1003</td>\n",
       "      <td>231996.811386</td>\n",
       "    </tr>\n",
       "    <tr>\n",
       "      <th>4</th>\n",
       "      <td>1004</td>\n",
       "      <td>232245.534760</td>\n",
       "    </tr>\n",
       "    <tr>\n",
       "      <th>...</th>\n",
       "      <td>...</td>\n",
       "      <td>...</td>\n",
       "    </tr>\n",
       "    <tr>\n",
       "      <th>1495</th>\n",
       "      <td>2495</td>\n",
       "      <td>603092.085538</td>\n",
       "    </tr>\n",
       "    <tr>\n",
       "      <th>1496</th>\n",
       "      <td>2496</td>\n",
       "      <td>603340.808912</td>\n",
       "    </tr>\n",
       "    <tr>\n",
       "      <th>1497</th>\n",
       "      <td>2497</td>\n",
       "      <td>603589.532286</td>\n",
       "    </tr>\n",
       "    <tr>\n",
       "      <th>1498</th>\n",
       "      <td>2498</td>\n",
       "      <td>603838.255660</td>\n",
       "    </tr>\n",
       "    <tr>\n",
       "      <th>1499</th>\n",
       "      <td>2499</td>\n",
       "      <td>604086.979034</td>\n",
       "    </tr>\n",
       "  </tbody>\n",
       "</table>\n",
       "<p>1500 rows × 2 columns</p>\n",
       "</div>"
      ],
      "text/plain": [
       "      SQFT  predicted_taxvaluedollarcnt\n",
       "0     1000                231250.641264\n",
       "1     1001                231499.364638\n",
       "2     1002                231748.088012\n",
       "3     1003                231996.811386\n",
       "4     1004                232245.534760\n",
       "...    ...                          ...\n",
       "1495  2495                603092.085538\n",
       "1496  2496                603340.808912\n",
       "1497  2497                603589.532286\n",
       "1498  2498                603838.255660\n",
       "1499  2499                604086.979034\n",
       "\n",
       "[1500 rows x 2 columns]"
      ]
     },
     "execution_count": 14,
     "metadata": {},
     "output_type": "execute_result"
    }
   ],
   "source": [
    "SQFT = np.arange(1000, 2500)\n",
    "taxvaluedollarcnt = lm.predict(SQFT.reshape(-1, 1))\n",
    "pd.DataFrame(dict(SQFT=SQFT, predicted_taxvaluedollarcnt=taxvaluedollarcnt))"
   ]
  },
  {
   "cell_type": "markdown",
   "id": "c324e22a",
   "metadata": {
    "slideshow": {
     "slide_type": "slide"
    }
   },
   "source": [
    "<div class=\"alert alert-warning\">\n",
    "\n",
    "\n",
    "## Multiple Regression + RFE\n",
    "\n",
    "$$ y = m_1x_1 + m_2x_2 + b $$\n",
    "\n",
    "$$ y = f(x1, x2, ...) $$"
   ]
  },
  {
   "cell_type": "code",
   "execution_count": 15,
   "id": "e9b56cc7",
   "metadata": {},
   "outputs": [
    {
     "name": "stdout",
     "output_type": "stream",
     "text": [
      "selected top 2 features: Index(['county_Orange County', 'county_Ventura County'], dtype='object')\n"
     ]
    }
   ],
   "source": [
    "X_train = train.drop(columns='taxvaluedollarcnt')\n",
    "y_train = train.taxvaluedollarcnt\n",
    "X_validate = validate.drop(columns='taxvaluedollarcnt')\n",
    "\n",
    "lm = LinearRegression()\n",
    "k = 2\n",
    "\n",
    "# 1. Transform our X\n",
    "rfe = RFE(lm, n_features_to_select=2)\n",
    "rfe.fit(X_train, y_train)\n",
    "print('selected top 2 features:', X_train.columns[rfe.support_])\n",
    "X_train_rfe = rfe.transform(X_train)"
   ]
  },
  {
   "cell_type": "code",
   "execution_count": 16,
   "id": "290d44cc",
   "metadata": {},
   "outputs": [
    {
     "data": {
      "text/plain": [
       "(28561, 17)"
      ]
     },
     "execution_count": 16,
     "metadata": {},
     "output_type": "execute_result"
    }
   ],
   "source": [
    "X_train.shape"
   ]
  },
  {
   "cell_type": "code",
   "execution_count": 17,
   "id": "c9ad594f",
   "metadata": {},
   "outputs": [
    {
     "data": {
      "text/plain": [
       "(28561, 2)"
      ]
     },
     "execution_count": 17,
     "metadata": {},
     "output_type": "execute_result"
    }
   ],
   "source": [
    "X_train_rfe.shape"
   ]
  },
  {
   "cell_type": "code",
   "execution_count": 18,
   "id": "554f94d8",
   "metadata": {},
   "outputs": [
    {
     "data": {
      "text/html": [
       "<div>\n",
       "<style scoped>\n",
       "    .dataframe tbody tr th:only-of-type {\n",
       "        vertical-align: middle;\n",
       "    }\n",
       "\n",
       "    .dataframe tbody tr th {\n",
       "        vertical-align: top;\n",
       "    }\n",
       "\n",
       "    .dataframe thead th {\n",
       "        text-align: right;\n",
       "    }\n",
       "</style>\n",
       "<table border=\"1\" class=\"dataframe\">\n",
       "  <thead>\n",
       "    <tr style=\"text-align: right;\">\n",
       "      <th></th>\n",
       "      <th>actual</th>\n",
       "      <th>logerror</th>\n",
       "      <th>simple_lm</th>\n",
       "      <th>multiple_rfe</th>\n",
       "    </tr>\n",
       "  </thead>\n",
       "  <tbody>\n",
       "    <tr>\n",
       "      <th>0</th>\n",
       "      <td>1663334</td>\n",
       "      <td>0.04901</td>\n",
       "      <td>983390.124531</td>\n",
       "      <td>410135.180989</td>\n",
       "    </tr>\n",
       "    <tr>\n",
       "      <th>1</th>\n",
       "      <td>45302</td>\n",
       "      <td>-0.003143</td>\n",
       "      <td>294426.378284</td>\n",
       "      <td>410135.180989</td>\n",
       "    </tr>\n",
       "    <tr>\n",
       "      <th>2</th>\n",
       "      <td>388528</td>\n",
       "      <td>0.002243</td>\n",
       "      <td>303877.866500</td>\n",
       "      <td>410135.180989</td>\n",
       "    </tr>\n",
       "    <tr>\n",
       "      <th>3</th>\n",
       "      <td>130715</td>\n",
       "      <td>-0.02305</td>\n",
       "      <td>325268.076672</td>\n",
       "      <td>410135.180989</td>\n",
       "    </tr>\n",
       "    <tr>\n",
       "      <th>4</th>\n",
       "      <td>407342</td>\n",
       "      <td>-0.023093</td>\n",
       "      <td>517282.521475</td>\n",
       "      <td>410135.180989</td>\n",
       "    </tr>\n",
       "  </tbody>\n",
       "</table>\n",
       "</div>"
      ],
      "text/plain": [
       "    actual  logerror      simple_lm   multiple_rfe\n",
       "0  1663334   0.04901  983390.124531  410135.180989\n",
       "1    45302 -0.003143  294426.378284  410135.180989\n",
       "2   388528  0.002243  303877.866500  410135.180989\n",
       "3   130715  -0.02305  325268.076672  410135.180989\n",
       "4   407342 -0.023093  517282.521475  410135.180989"
      ]
     },
     "execution_count": 18,
     "metadata": {},
     "output_type": "execute_result"
    }
   ],
   "source": [
    "# 2. Use the transformed x in our model\n",
    "lm.fit(X_train_rfe, y_train)\n",
    "\n",
    "# 3. Make predictions\n",
    "X_validate_rfe = rfe.transform(X_validate)\n",
    "predictions['multiple_rfe'] = lm.predict(X_validate_rfe)\n",
    "\n",
    "predictions.head()"
   ]
  },
  {
   "cell_type": "markdown",
   "id": "6ef3d35e",
   "metadata": {
    "slideshow": {
     "slide_type": "slide"
    }
   },
   "source": [
    "### Examine the Model"
   ]
  },
  {
   "cell_type": "code",
   "execution_count": 19,
   "id": "fd59071c",
   "metadata": {
    "slideshow": {
     "slide_type": "-"
    }
   },
   "outputs": [
    {
     "data": {
      "text/plain": [
       "Index(['county_Orange County', 'county_Ventura County'], dtype='object')"
      ]
     },
     "execution_count": 19,
     "metadata": {},
     "output_type": "execute_result"
    }
   ],
   "source": [
    "X_train.columns[rfe.support_]"
   ]
  },
  {
   "cell_type": "code",
   "execution_count": 20,
   "id": "239907d1",
   "metadata": {},
   "outputs": [
    {
     "data": {
      "text/plain": [
       "(array([118759.06708793,  80470.5058521 ]), 410135.18098900304)"
      ]
     },
     "execution_count": 20,
     "metadata": {},
     "output_type": "execute_result"
    }
   ],
   "source": [
    "lm.coef_, lm.intercept_"
   ]
  },
  {
   "cell_type": "code",
   "execution_count": 21,
   "id": "3be50427",
   "metadata": {},
   "outputs": [
    {
     "name": "stdout",
     "output_type": "stream",
     "text": [
      "Tax Assessed Value = 118759.07 x Orange County + 80470.51 x Ventura County + 410135.18\n"
     ]
    }
   ],
   "source": [
    "print(f'Tax Assessed Value = {lm.coef_[0]:.2f} x Orange County + {lm.coef_[1]:.2f} x Ventura County + {lm.intercept_:.2f}')"
   ]
  },
  {
   "cell_type": "code",
   "execution_count": 22,
   "id": "1e38ebb9",
   "metadata": {},
   "outputs": [
    {
     "data": {
      "text/html": [
       "<div>\n",
       "<style scoped>\n",
       "    .dataframe tbody tr th:only-of-type {\n",
       "        vertical-align: middle;\n",
       "    }\n",
       "\n",
       "    .dataframe tbody tr th {\n",
       "        vertical-align: top;\n",
       "    }\n",
       "\n",
       "    .dataframe thead th {\n",
       "        text-align: right;\n",
       "    }\n",
       "</style>\n",
       "<table border=\"1\" class=\"dataframe\">\n",
       "  <thead>\n",
       "    <tr style=\"text-align: right;\">\n",
       "      <th></th>\n",
       "      <th>Orange County</th>\n",
       "      <th>Ventura County</th>\n",
       "      <th>predicted_taxvaluedollarcnt</th>\n",
       "    </tr>\n",
       "  </thead>\n",
       "  <tbody>\n",
       "    <tr>\n",
       "      <th>0</th>\n",
       "      <td>0</td>\n",
       "      <td>1</td>\n",
       "      <td>490605.686841</td>\n",
       "    </tr>\n",
       "    <tr>\n",
       "      <th>1</th>\n",
       "      <td>1</td>\n",
       "      <td>0</td>\n",
       "      <td>528894.248077</td>\n",
       "    </tr>\n",
       "    <tr>\n",
       "      <th>2</th>\n",
       "      <td>0</td>\n",
       "      <td>0</td>\n",
       "      <td>410135.180989</td>\n",
       "    </tr>\n",
       "  </tbody>\n",
       "</table>\n",
       "</div>"
      ],
      "text/plain": [
       "   Orange County  Ventura County  predicted_taxvaluedollarcnt\n",
       "0              0               1                490605.686841\n",
       "1              1               0                528894.248077\n",
       "2              0               0                410135.180989"
      ]
     },
     "execution_count": 22,
     "metadata": {},
     "output_type": "execute_result"
    }
   ],
   "source": [
    "X = pd.DataFrame({\n",
    "    'Orange County': [0, 1, 0],\n",
    "    'Ventura County': [1, 0, 0]\n",
    "})\n",
    "\n",
    "X['predicted_taxvaluedollarcnt'] = lm.predict(X)\n",
    "X"
   ]
  },
  {
   "cell_type": "markdown",
   "id": "fff2d044",
   "metadata": {
    "slideshow": {
     "slide_type": "slide"
    }
   },
   "source": [
    "<div class=\"alert alert-warning\">\n",
    "\n",
    "\n",
    "\n",
    "## Polynomial Features\n",
    "\n",
    "First off...what the heck is a polynomial?\n",
    "\n",
    "$$ y = a_0x^0 + a_1x^1 + a_2x^2 + ... + a_nx^n $$\n",
    "\n",
    "or a simpler form:\n",
    "\n",
    "$$ y = a_0 + a_1x + a_2x^2 + ... + a_nx^n $$\n",
    "\n",
    "`degree = order = n`\n",
    "\n",
    "What does a polynomial look like when graphed on a coordinate plane? Well it depends on\n",
    "- The intercept\n",
    "- The coefficients\n",
    "\n",
    "Consider this third degree polynomial:\n",
    "\n",
    "$$ y = 2x + x^3 $$"
   ]
  },
  {
   "cell_type": "code",
   "execution_count": 69,
   "id": "800c7803",
   "metadata": {
    "slideshow": {
     "slide_type": "slide"
    }
   },
   "outputs": [],
   "source": [
    "from sklearn.preprocessing import PolynomialFeatures\n",
    "\n",
    "X_train = train[['bedroomcnt', 'bathroomcnt', 'calculatedfinishedsquarefeet']]\n",
    "X_validate = validate[['bedroomcnt', 'bathroomcnt', 'calculatedfinishedsquarefeet']]\n",
    "y_train = train.taxvaluedollarcnt\n",
    "y_validate = validate.taxvaluedollarcnt"
   ]
  },
  {
   "cell_type": "markdown",
   "id": "e3ff7911",
   "metadata": {},
   "source": [
    "<div class=\"alert alert-warning\">\n",
    "\n",
    "\n",
    "## Polynomial Degree 2"
   ]
  },
  {
   "cell_type": "code",
   "execution_count": 24,
   "id": "a86efc91",
   "metadata": {},
   "outputs": [
    {
     "data": {
      "text/html": [
       "<div>\n",
       "<style scoped>\n",
       "    .dataframe tbody tr th:only-of-type {\n",
       "        vertical-align: middle;\n",
       "    }\n",
       "\n",
       "    .dataframe tbody tr th {\n",
       "        vertical-align: top;\n",
       "    }\n",
       "\n",
       "    .dataframe thead th {\n",
       "        text-align: right;\n",
       "    }\n",
       "</style>\n",
       "<table border=\"1\" class=\"dataframe\">\n",
       "  <thead>\n",
       "    <tr style=\"text-align: right;\">\n",
       "      <th></th>\n",
       "      <th>0</th>\n",
       "      <th>1</th>\n",
       "      <th>2</th>\n",
       "      <th>3</th>\n",
       "      <th>4</th>\n",
       "    </tr>\n",
       "  </thead>\n",
       "  <tbody>\n",
       "    <tr>\n",
       "      <th>bedroomcnt</th>\n",
       "      <td>2.0</td>\n",
       "      <td>3.0</td>\n",
       "      <td>5.00</td>\n",
       "      <td>4.0</td>\n",
       "      <td>2.0</td>\n",
       "    </tr>\n",
       "    <tr>\n",
       "      <th>bathroomcnt</th>\n",
       "      <td>1.0</td>\n",
       "      <td>3.0</td>\n",
       "      <td>4.50</td>\n",
       "      <td>3.0</td>\n",
       "      <td>2.0</td>\n",
       "    </tr>\n",
       "    <tr>\n",
       "      <th>calculatedfinishedsquarefeet</th>\n",
       "      <td>926.0</td>\n",
       "      <td>2425.0</td>\n",
       "      <td>4483.00</td>\n",
       "      <td>2362.0</td>\n",
       "      <td>1522.0</td>\n",
       "    </tr>\n",
       "    <tr>\n",
       "      <th>bedroomcnt^2</th>\n",
       "      <td>4.0</td>\n",
       "      <td>9.0</td>\n",
       "      <td>25.00</td>\n",
       "      <td>16.0</td>\n",
       "      <td>4.0</td>\n",
       "    </tr>\n",
       "    <tr>\n",
       "      <th>bedroomcnt bathroomcnt</th>\n",
       "      <td>2.0</td>\n",
       "      <td>9.0</td>\n",
       "      <td>22.50</td>\n",
       "      <td>12.0</td>\n",
       "      <td>4.0</td>\n",
       "    </tr>\n",
       "    <tr>\n",
       "      <th>bedroomcnt calculatedfinishedsquarefeet</th>\n",
       "      <td>1852.0</td>\n",
       "      <td>7275.0</td>\n",
       "      <td>22415.00</td>\n",
       "      <td>9448.0</td>\n",
       "      <td>3044.0</td>\n",
       "    </tr>\n",
       "    <tr>\n",
       "      <th>bathroomcnt^2</th>\n",
       "      <td>1.0</td>\n",
       "      <td>9.0</td>\n",
       "      <td>20.25</td>\n",
       "      <td>9.0</td>\n",
       "      <td>4.0</td>\n",
       "    </tr>\n",
       "    <tr>\n",
       "      <th>bathroomcnt calculatedfinishedsquarefeet</th>\n",
       "      <td>926.0</td>\n",
       "      <td>7275.0</td>\n",
       "      <td>20173.50</td>\n",
       "      <td>7086.0</td>\n",
       "      <td>3044.0</td>\n",
       "    </tr>\n",
       "    <tr>\n",
       "      <th>calculatedfinishedsquarefeet^2</th>\n",
       "      <td>857476.0</td>\n",
       "      <td>5880625.0</td>\n",
       "      <td>20097289.00</td>\n",
       "      <td>5579044.0</td>\n",
       "      <td>2316484.0</td>\n",
       "    </tr>\n",
       "  </tbody>\n",
       "</table>\n",
       "</div>"
      ],
      "text/plain": [
       "                                                 0          1            2  \\\n",
       "bedroomcnt                                     2.0        3.0         5.00   \n",
       "bathroomcnt                                    1.0        3.0         4.50   \n",
       "calculatedfinishedsquarefeet                 926.0     2425.0      4483.00   \n",
       "bedroomcnt^2                                   4.0        9.0        25.00   \n",
       "bedroomcnt bathroomcnt                         2.0        9.0        22.50   \n",
       "bedroomcnt calculatedfinishedsquarefeet     1852.0     7275.0     22415.00   \n",
       "bathroomcnt^2                                  1.0        9.0        20.25   \n",
       "bathroomcnt calculatedfinishedsquarefeet     926.0     7275.0     20173.50   \n",
       "calculatedfinishedsquarefeet^2            857476.0  5880625.0  20097289.00   \n",
       "\n",
       "                                                  3          4  \n",
       "bedroomcnt                                      4.0        2.0  \n",
       "bathroomcnt                                     3.0        2.0  \n",
       "calculatedfinishedsquarefeet                 2362.0     1522.0  \n",
       "bedroomcnt^2                                   16.0        4.0  \n",
       "bedroomcnt bathroomcnt                         12.0        4.0  \n",
       "bedroomcnt calculatedfinishedsquarefeet      9448.0     3044.0  \n",
       "bathroomcnt^2                                   9.0        4.0  \n",
       "bathroomcnt calculatedfinishedsquarefeet     7086.0     3044.0  \n",
       "calculatedfinishedsquarefeet^2            5579044.0  2316484.0  "
      ]
     },
     "execution_count": 24,
     "metadata": {},
     "output_type": "execute_result"
    }
   ],
   "source": [
    "# 1. Generate Polynomial Features\n",
    "poly = PolynomialFeatures(degree=2, include_bias=False, interaction_only=False)\n",
    "poly.fit(X_train)\n",
    "X_train_poly = pd.DataFrame(\n",
    "    poly.transform(X_train),\n",
    "    columns=poly.get_feature_names(X_train.columns),\n",
    "    index=train.index,\n",
    ")\n",
    "X_train_poly.head().T"
   ]
  },
  {
   "cell_type": "code",
   "execution_count": 25,
   "id": "7aa04bfe",
   "metadata": {
    "slideshow": {
     "slide_type": "slide"
    }
   },
   "outputs": [],
   "source": [
    "# 2. Use the features\n",
    "lm = LinearRegression()\n",
    "lm.fit(X_train_poly, y_train)\n",
    "\n",
    "X_validate_poly = poly.transform(X_validate)\n",
    "predictions['polynomial degree 2'] = lm.predict(X_validate_poly)"
   ]
  },
  {
   "cell_type": "code",
   "execution_count": 26,
   "id": "c6971115",
   "metadata": {},
   "outputs": [
    {
     "data": {
      "text/html": [
       "<div>\n",
       "<style scoped>\n",
       "    .dataframe tbody tr th:only-of-type {\n",
       "        vertical-align: middle;\n",
       "    }\n",
       "\n",
       "    .dataframe tbody tr th {\n",
       "        vertical-align: top;\n",
       "    }\n",
       "\n",
       "    .dataframe thead th {\n",
       "        text-align: right;\n",
       "    }\n",
       "</style>\n",
       "<table border=\"1\" class=\"dataframe\">\n",
       "  <thead>\n",
       "    <tr style=\"text-align: right;\">\n",
       "      <th></th>\n",
       "      <th>actual</th>\n",
       "      <th>logerror</th>\n",
       "      <th>simple_lm</th>\n",
       "      <th>multiple_rfe</th>\n",
       "      <th>polynomial degree 2</th>\n",
       "    </tr>\n",
       "  </thead>\n",
       "  <tbody>\n",
       "    <tr>\n",
       "      <th>0</th>\n",
       "      <td>1663334</td>\n",
       "      <td>0.04901</td>\n",
       "      <td>983390.124531</td>\n",
       "      <td>410135.180989</td>\n",
       "      <td>931010.714799</td>\n",
       "    </tr>\n",
       "    <tr>\n",
       "      <th>1</th>\n",
       "      <td>45302</td>\n",
       "      <td>-0.003143</td>\n",
       "      <td>294426.378284</td>\n",
       "      <td>410135.180989</td>\n",
       "      <td>293207.372986</td>\n",
       "    </tr>\n",
       "    <tr>\n",
       "      <th>2</th>\n",
       "      <td>388528</td>\n",
       "      <td>0.002243</td>\n",
       "      <td>303877.866500</td>\n",
       "      <td>410135.180989</td>\n",
       "      <td>242519.921994</td>\n",
       "    </tr>\n",
       "    <tr>\n",
       "      <th>3</th>\n",
       "      <td>130715</td>\n",
       "      <td>-0.02305</td>\n",
       "      <td>325268.076672</td>\n",
       "      <td>410135.180989</td>\n",
       "      <td>326422.853321</td>\n",
       "    </tr>\n",
       "    <tr>\n",
       "      <th>4</th>\n",
       "      <td>407342</td>\n",
       "      <td>-0.023093</td>\n",
       "      <td>517282.521475</td>\n",
       "      <td>410135.180989</td>\n",
       "      <td>499389.755074</td>\n",
       "    </tr>\n",
       "  </tbody>\n",
       "</table>\n",
       "</div>"
      ],
      "text/plain": [
       "    actual  logerror      simple_lm   multiple_rfe  polynomial degree 2\n",
       "0  1663334   0.04901  983390.124531  410135.180989        931010.714799\n",
       "1    45302 -0.003143  294426.378284  410135.180989        293207.372986\n",
       "2   388528  0.002243  303877.866500  410135.180989        242519.921994\n",
       "3   130715  -0.02305  325268.076672  410135.180989        326422.853321\n",
       "4   407342 -0.023093  517282.521475  410135.180989        499389.755074"
      ]
     },
     "execution_count": 26,
     "metadata": {},
     "output_type": "execute_result"
    }
   ],
   "source": [
    "predictions.head()"
   ]
  },
  {
   "cell_type": "markdown",
   "id": "7fcb0960",
   "metadata": {},
   "source": [
    "#### Examine the coefficients of the resulting model."
   ]
  },
  {
   "cell_type": "code",
   "execution_count": 27,
   "id": "df65062b",
   "metadata": {},
   "outputs": [
    {
     "data": {
      "text/plain": [
       "bedroomcnt                                 -36158.519991\n",
       "bathroomcnt                                -21317.566226\n",
       "bedroomcnt bathroomcnt                     -16535.164574\n",
       "bedroomcnt calculatedfinishedsquarefeet        -1.840363\n",
       "calculatedfinishedsquarefeet^2                 -0.017293\n",
       "bathroomcnt calculatedfinishedsquarefeet       17.993813\n",
       "calculatedfinishedsquarefeet                  282.915370\n",
       "bedroomcnt^2                                 1526.242288\n",
       "bathroomcnt^2                               17881.794780\n",
       "dtype: float64"
      ]
     },
     "execution_count": 27,
     "metadata": {},
     "output_type": "execute_result"
    }
   ],
   "source": [
    "feature_names = poly.get_feature_names(X_train.columns)\n",
    "pd.Series(lm.coef_, index=feature_names).sort_values()"
   ]
  },
  {
   "cell_type": "markdown",
   "id": "9b6f151c",
   "metadata": {
    "slideshow": {
     "slide_type": "slide"
    }
   },
   "source": [
    "<div class=\"alert alert-warning\">\n",
    "\n",
    "\n",
    "## Polynomial Only Interaction"
   ]
  },
  {
   "cell_type": "code",
   "execution_count": 73,
   "id": "9539624e",
   "metadata": {},
   "outputs": [
    {
     "data": {
      "text/plain": [
       "bedroomcnt                                 -41139.133625\n",
       "bathroomcnt                                -18835.097095\n",
       "bedroomcnt calculatedfinishedsquarefeet       -24.877100\n",
       "bathroomcnt calculatedfinishedsquarefeet       17.649795\n",
       "calculatedfinishedsquarefeet                  282.665351\n",
       "bedroomcnt bathroomcnt                       9796.352567\n",
       "dtype: float64"
      ]
     },
     "execution_count": 73,
     "metadata": {},
     "output_type": "execute_result"
    }
   ],
   "source": [
    "poly = PolynomialFeatures(degree=2, include_bias=False, interaction_only=True)\n",
    "poly.fit(X_train)\n",
    "X_train_poly = pd.DataFrame(\n",
    "    poly.transform(X_train),\n",
    "    columns=poly.get_feature_names(X_train.columns),\n",
    "    index=train.index,\n",
    ")\n",
    "lm = LinearRegression()\n",
    "lm.fit(X_train_poly, y_train)\n",
    "\n",
    "X_validate_poly = poly.transform(X_validate)\n",
    "predictions['polynomial only interaction'] = lm.predict(X_validate_poly)\n",
    "\n",
    "pd.Series(lm.coef_, index=poly.get_feature_names(X_train.columns)).sort_values()"
   ]
  },
  {
   "cell_type": "code",
   "execution_count": 29,
   "id": "e4530034",
   "metadata": {},
   "outputs": [
    {
     "data": {
      "text/html": [
       "<div>\n",
       "<style scoped>\n",
       "    .dataframe tbody tr th:only-of-type {\n",
       "        vertical-align: middle;\n",
       "    }\n",
       "\n",
       "    .dataframe tbody tr th {\n",
       "        vertical-align: top;\n",
       "    }\n",
       "\n",
       "    .dataframe thead th {\n",
       "        text-align: right;\n",
       "    }\n",
       "</style>\n",
       "<table border=\"1\" class=\"dataframe\">\n",
       "  <thead>\n",
       "    <tr style=\"text-align: right;\">\n",
       "      <th></th>\n",
       "      <th>actual</th>\n",
       "      <th>logerror</th>\n",
       "      <th>simple_lm</th>\n",
       "      <th>multiple_rfe</th>\n",
       "      <th>polynomial degree 2</th>\n",
       "      <th>polynomial only interaction</th>\n",
       "    </tr>\n",
       "  </thead>\n",
       "  <tbody>\n",
       "    <tr>\n",
       "      <th>0</th>\n",
       "      <td>1663334</td>\n",
       "      <td>0.04901</td>\n",
       "      <td>983390.124531</td>\n",
       "      <td>410135.180989</td>\n",
       "      <td>931010.714799</td>\n",
       "      <td>935951.199147</td>\n",
       "    </tr>\n",
       "    <tr>\n",
       "      <th>1</th>\n",
       "      <td>45302</td>\n",
       "      <td>-0.003143</td>\n",
       "      <td>294426.378284</td>\n",
       "      <td>410135.180989</td>\n",
       "      <td>293207.372986</td>\n",
       "      <td>302881.887929</td>\n",
       "    </tr>\n",
       "    <tr>\n",
       "      <th>2</th>\n",
       "      <td>388528</td>\n",
       "      <td>0.002243</td>\n",
       "      <td>303877.866500</td>\n",
       "      <td>410135.180989</td>\n",
       "      <td>242519.921994</td>\n",
       "      <td>258440.924719</td>\n",
       "    </tr>\n",
       "    <tr>\n",
       "      <th>3</th>\n",
       "      <td>130715</td>\n",
       "      <td>-0.02305</td>\n",
       "      <td>325268.076672</td>\n",
       "      <td>410135.180989</td>\n",
       "      <td>326422.853321</td>\n",
       "      <td>333055.259481</td>\n",
       "    </tr>\n",
       "    <tr>\n",
       "      <th>4</th>\n",
       "      <td>407342</td>\n",
       "      <td>-0.023093</td>\n",
       "      <td>517282.521475</td>\n",
       "      <td>410135.180989</td>\n",
       "      <td>499389.755074</td>\n",
       "      <td>504174.009760</td>\n",
       "    </tr>\n",
       "  </tbody>\n",
       "</table>\n",
       "</div>"
      ],
      "text/plain": [
       "    actual  logerror      simple_lm   multiple_rfe  polynomial degree 2  \\\n",
       "0  1663334   0.04901  983390.124531  410135.180989        931010.714799   \n",
       "1    45302 -0.003143  294426.378284  410135.180989        293207.372986   \n",
       "2   388528  0.002243  303877.866500  410135.180989        242519.921994   \n",
       "3   130715  -0.02305  325268.076672  410135.180989        326422.853321   \n",
       "4   407342 -0.023093  517282.521475  410135.180989        499389.755074   \n",
       "\n",
       "   polynomial only interaction  \n",
       "0                935951.199147  \n",
       "1                302881.887929  \n",
       "2                258440.924719  \n",
       "3                333055.259481  \n",
       "4                504174.009760  "
      ]
     },
     "execution_count": 29,
     "metadata": {},
     "output_type": "execute_result"
    }
   ],
   "source": [
    "predictions.head()"
   ]
  },
  {
   "cell_type": "markdown",
   "id": "f375ed14",
   "metadata": {
    "slideshow": {
     "slide_type": "slide"
    }
   },
   "source": [
    "Takeaway: interaction terms can be useful if you suspect there's a multiplicative relationship between independent variables. Higher order polynomial features should be used with caution (usually when you have domain knowledge that says this is the right thing to do).\n",
    "\n",
    "Example: Telco churn, using monthly charges and tenure to predict total charges. monthly charges times tenure will give us a good number for total charges."
   ]
  },
  {
   "cell_type": "markdown",
   "id": "65fe8f14",
   "metadata": {},
   "source": [
    "<div class=\"alert alert-warning\">\n",
    "\n",
    "\n",
    "\n",
    "## Lasso-Lars\n",
    "\n",
    "Performs intrinsic feature selection and noise reduction to avoid overfitting.\n",
    "\n",
    "The most important hyperparameter is `alpha`. \n",
    "- `alpha` determines the degree of regularization applied to the model. \n",
    "- The lowest `alpha` is zero, and this represents no regularization (identical to OLS). \n",
    "- There is no limit to `alpha`, but as it rises, it will reach a point where performance no longer changes (often because you've regularized all of your coefficients to zero. \n",
    "\n",
    "Generally speaking, the higher the alpha, the lower your risk for overfitting. \n",
    "\n",
    "`alpha` = 1.0 is a good place to start."
   ]
  },
  {
   "cell_type": "code",
   "execution_count": 30,
   "id": "d99463ca",
   "metadata": {},
   "outputs": [],
   "source": [
    "from sklearn.linear_model import LassoLars"
   ]
  },
  {
   "cell_type": "markdown",
   "id": "784fdb3c",
   "metadata": {},
   "source": [
    "`alpha = 0`"
   ]
  },
  {
   "cell_type": "code",
   "execution_count": 31,
   "id": "6c99d444",
   "metadata": {},
   "outputs": [],
   "source": [
    "# create the model object\n",
    "lars = LassoLars(alpha=0)\n",
    "\n",
    "# fit the model to our training data\n",
    "lars.fit(X_train, y_train)\n",
    "\n",
    "# predict validate\n",
    "X_validate_pred_lars = lars.predict(X_validate)"
   ]
  },
  {
   "cell_type": "code",
   "execution_count": 32,
   "id": "7ed1307f",
   "metadata": {},
   "outputs": [
    {
     "data": {
      "text/plain": [
       "bedroomcnt                     -70982.107595\n",
       "calculatedfinishedsquarefeet      247.261933\n",
       "bathroomcnt                     52514.524033\n",
       "dtype: float64"
      ]
     },
     "execution_count": 32,
     "metadata": {},
     "output_type": "execute_result"
    }
   ],
   "source": [
    "pd.Series(lars.coef_, index=X_train.columns).sort_values()"
   ]
  },
  {
   "cell_type": "markdown",
   "id": "c42f339e",
   "metadata": {},
   "source": [
    "`alpha = 0.5`"
   ]
  },
  {
   "cell_type": "code",
   "execution_count": 33,
   "id": "5c865e44",
   "metadata": {},
   "outputs": [],
   "source": [
    "# create the model object\n",
    "lars = LassoLars(alpha=0.5)\n",
    "\n",
    "# fit the model to our training data= \n",
    "lars.fit(X_train, y_train)\n",
    "\n",
    "# predict validate\n",
    "X_validate_pred_lars = lars.predict(X_validate)"
   ]
  },
  {
   "cell_type": "code",
   "execution_count": 34,
   "id": "5be20684",
   "metadata": {},
   "outputs": [
    {
     "data": {
      "text/plain": [
       "bedroomcnt                     -70710.336619\n",
       "calculatedfinishedsquarefeet      247.107118\n",
       "bathroomcnt                     52377.032985\n",
       "dtype: float64"
      ]
     },
     "execution_count": 34,
     "metadata": {},
     "output_type": "execute_result"
    }
   ],
   "source": [
    "pd.Series(lars.coef_, index=X_train.columns).sort_values()"
   ]
  },
  {
   "cell_type": "markdown",
   "id": "cb876151",
   "metadata": {},
   "source": [
    "`alpha = 1.0`"
   ]
  },
  {
   "cell_type": "code",
   "execution_count": 35,
   "id": "e40c62cd",
   "metadata": {},
   "outputs": [],
   "source": [
    "# create the model object\n",
    "lars = LassoLars(alpha=1)\n",
    "\n",
    "# fit the model to our training data\n",
    "lars.fit(X_train, y_train)\n",
    "\n",
    "# predict validate\n",
    "X_validate_pred_lars = lars.predict(X_validate)\n",
    "\n",
    "# Add lassolars predictions to our predictions DataFrame\n",
    "predictions['lasso_lars'] = X_validate_pred_lars"
   ]
  },
  {
   "cell_type": "code",
   "execution_count": 36,
   "id": "614c7027",
   "metadata": {},
   "outputs": [
    {
     "data": {
      "text/plain": [
       "bedroomcnt                     -70438.565644\n",
       "calculatedfinishedsquarefeet      246.952303\n",
       "bathroomcnt                     52239.541937\n",
       "dtype: float64"
      ]
     },
     "execution_count": 36,
     "metadata": {},
     "output_type": "execute_result"
    }
   ],
   "source": [
    "pd.Series(lars.coef_, index=X_train.columns).sort_values()"
   ]
  },
  {
   "cell_type": "code",
   "execution_count": 37,
   "id": "2277015b",
   "metadata": {},
   "outputs": [
    {
     "data": {
      "text/plain": [
       "101505.35310822102"
      ]
     },
     "execution_count": 37,
     "metadata": {},
     "output_type": "execute_result"
    }
   ],
   "source": [
    "lars.intercept_"
   ]
  },
  {
   "cell_type": "markdown",
   "id": "1ff8ebae",
   "metadata": {},
   "source": [
    "`alpha = 2`"
   ]
  },
  {
   "cell_type": "code",
   "execution_count": 38,
   "id": "1f7fff12",
   "metadata": {},
   "outputs": [],
   "source": [
    "# create the model object\n",
    "lars_high_alpha = LassoLars(alpha=2)\n",
    "\n",
    "# fit the model to our training data\n",
    "lars_high_alpha.fit(X_train, y_train)\n",
    "\n",
    "# predict validate\n",
    "X_validate_pred_lars_high_alpha = lars.predict(X_validate)"
   ]
  },
  {
   "cell_type": "code",
   "execution_count": 39,
   "id": "2e54f667",
   "metadata": {},
   "outputs": [
    {
     "data": {
      "text/plain": [
       "bedroomcnt                     -69895.023692\n",
       "calculatedfinishedsquarefeet      246.642674\n",
       "bathroomcnt                     51964.559842\n",
       "dtype: float64"
      ]
     },
     "execution_count": 39,
     "metadata": {},
     "output_type": "execute_result"
    }
   ],
   "source": [
    "pd.Series(lars_high_alpha.coef_, index=X_train.columns).sort_values()"
   ]
  },
  {
   "cell_type": "code",
   "execution_count": 40,
   "id": "5a579583",
   "metadata": {},
   "outputs": [
    {
     "data": {
      "text/plain": [
       "100903.18357780174"
      ]
     },
     "execution_count": 40,
     "metadata": {},
     "output_type": "execute_result"
    }
   ],
   "source": [
    "lars_high_alpha.intercept_"
   ]
  },
  {
   "cell_type": "code",
   "execution_count": 41,
   "id": "8d9d3d1d",
   "metadata": {},
   "outputs": [
    {
     "data": {
      "text/html": [
       "<div>\n",
       "<style scoped>\n",
       "    .dataframe tbody tr th:only-of-type {\n",
       "        vertical-align: middle;\n",
       "    }\n",
       "\n",
       "    .dataframe tbody tr th {\n",
       "        vertical-align: top;\n",
       "    }\n",
       "\n",
       "    .dataframe thead th {\n",
       "        text-align: right;\n",
       "    }\n",
       "</style>\n",
       "<table border=\"1\" class=\"dataframe\">\n",
       "  <thead>\n",
       "    <tr style=\"text-align: right;\">\n",
       "      <th></th>\n",
       "      <th>actual</th>\n",
       "      <th>logerror</th>\n",
       "      <th>simple_lm</th>\n",
       "      <th>multiple_rfe</th>\n",
       "      <th>polynomial degree 2</th>\n",
       "      <th>polynomial only interaction</th>\n",
       "      <th>lasso_lars</th>\n",
       "    </tr>\n",
       "  </thead>\n",
       "  <tbody>\n",
       "    <tr>\n",
       "      <th>0</th>\n",
       "      <td>1663334</td>\n",
       "      <td>0.04901</td>\n",
       "      <td>983390.124531</td>\n",
       "      <td>410135.180989</td>\n",
       "      <td>931010.714799</td>\n",
       "      <td>935951.199147</td>\n",
       "      <td>952006.761725</td>\n",
       "    </tr>\n",
       "    <tr>\n",
       "      <th>1</th>\n",
       "      <td>45302</td>\n",
       "      <td>-0.003143</td>\n",
       "      <td>294426.378284</td>\n",
       "      <td>410135.180989</td>\n",
       "      <td>293207.372986</td>\n",
       "      <td>302881.887929</td>\n",
       "      <td>304346.928579</td>\n",
       "    </tr>\n",
       "    <tr>\n",
       "      <th>2</th>\n",
       "      <td>388528</td>\n",
       "      <td>0.002243</td>\n",
       "      <td>303877.866500</td>\n",
       "      <td>410135.180989</td>\n",
       "      <td>242519.921994</td>\n",
       "      <td>258440.924719</td>\n",
       "      <td>243292.550466</td>\n",
       "    </tr>\n",
       "    <tr>\n",
       "      <th>3</th>\n",
       "      <td>130715</td>\n",
       "      <td>-0.02305</td>\n",
       "      <td>325268.076672</td>\n",
       "      <td>410135.180989</td>\n",
       "      <td>326422.853321</td>\n",
       "      <td>333055.259481</td>\n",
       "      <td>334969.014207</td>\n",
       "    </tr>\n",
       "    <tr>\n",
       "      <th>4</th>\n",
       "      <td>407342</td>\n",
       "      <td>-0.023093</td>\n",
       "      <td>517282.521475</td>\n",
       "      <td>410135.180989</td>\n",
       "      <td>499389.755074</td>\n",
       "      <td>504174.009760</td>\n",
       "      <td>507417.168764</td>\n",
       "    </tr>\n",
       "  </tbody>\n",
       "</table>\n",
       "</div>"
      ],
      "text/plain": [
       "    actual  logerror      simple_lm   multiple_rfe  polynomial degree 2  \\\n",
       "0  1663334   0.04901  983390.124531  410135.180989        931010.714799   \n",
       "1    45302 -0.003143  294426.378284  410135.180989        293207.372986   \n",
       "2   388528  0.002243  303877.866500  410135.180989        242519.921994   \n",
       "3   130715  -0.02305  325268.076672  410135.180989        326422.853321   \n",
       "4   407342 -0.023093  517282.521475  410135.180989        499389.755074   \n",
       "\n",
       "   polynomial only interaction     lasso_lars  \n",
       "0                935951.199147  952006.761725  \n",
       "1                302881.887929  304346.928579  \n",
       "2                258440.924719  243292.550466  \n",
       "3                333055.259481  334969.014207  \n",
       "4                504174.009760  507417.168764  "
      ]
     },
     "execution_count": 41,
     "metadata": {},
     "output_type": "execute_result"
    }
   ],
   "source": [
    "predictions.head()"
   ]
  },
  {
   "cell_type": "markdown",
   "id": "bae16a9c",
   "metadata": {},
   "source": [
    "<div class=\"alert alert-warning\">\n",
    "\n",
    "\n",
    "\n",
    "## Generalized Linear Model\n",
    "\n",
    "The most flexible regression algorithm, the GLM allows for different distributions, beyond just the Normal Distribution for OLS (and other models based on OLS, like LASSO). We will use the `TweedieRegressor` method to create a GLM using sklearn.\n",
    "\n",
    "> `sklearn.linear_model.TweedieRegressor(power=0, alpha=1.0)`\n",
    "\n",
    "* power = 0: Normal Distribution\n",
    "* power = 1: Poisson Distribution\n",
    "* power = (1,2): Compound Distribution\n",
    "* power = 2: Gamma Distribution\n",
    "* power = 3: Inverse Gaussian Distribution"
   ]
  },
  {
   "cell_type": "code",
   "execution_count": 42,
   "id": "a12ba914",
   "metadata": {},
   "outputs": [],
   "source": [
    "from sklearn.linear_model import TweedieRegressor\n",
    "\n",
    "# create the model object\n",
    "glm = TweedieRegressor(power=1, alpha=0)\n",
    "\n",
    "# fit the model to our training data\n",
    "glm.fit(X_train, y_train)\n",
    "\n",
    "# predict validate\n",
    "X_validate_predict_glm = glm.predict(X_validate)\n",
    "\n",
    "# Add general linear model predictions to our predictions DataFrame\n",
    "predictions['glm'] = X_validate_predict_glm"
   ]
  },
  {
   "cell_type": "code",
   "execution_count": 43,
   "id": "e15ac011",
   "metadata": {},
   "outputs": [
    {
     "data": {
      "text/plain": [
       "bedroomcnt                      0.0\n",
       "bathroomcnt                     0.0\n",
       "calculatedfinishedsquarefeet    0.0\n",
       "dtype: float64"
      ]
     },
     "execution_count": 43,
     "metadata": {},
     "output_type": "execute_result"
    }
   ],
   "source": [
    "pd.Series(glm.coef_, index=X_train.columns).sort_values()"
   ]
  },
  {
   "cell_type": "code",
   "execution_count": 44,
   "id": "d76ae789",
   "metadata": {},
   "outputs": [
    {
     "data": {
      "text/plain": [
       "13.016522417153546"
      ]
     },
     "execution_count": 44,
     "metadata": {},
     "output_type": "execute_result"
    }
   ],
   "source": [
    "glm.intercept_"
   ]
  },
  {
   "cell_type": "code",
   "execution_count": 45,
   "id": "e8a77996",
   "metadata": {},
   "outputs": [
    {
     "data": {
      "text/html": [
       "<div>\n",
       "<style scoped>\n",
       "    .dataframe tbody tr th:only-of-type {\n",
       "        vertical-align: middle;\n",
       "    }\n",
       "\n",
       "    .dataframe tbody tr th {\n",
       "        vertical-align: top;\n",
       "    }\n",
       "\n",
       "    .dataframe thead th {\n",
       "        text-align: right;\n",
       "    }\n",
       "</style>\n",
       "<table border=\"1\" class=\"dataframe\">\n",
       "  <thead>\n",
       "    <tr style=\"text-align: right;\">\n",
       "      <th></th>\n",
       "      <th>actual</th>\n",
       "      <th>logerror</th>\n",
       "      <th>simple_lm</th>\n",
       "      <th>multiple_rfe</th>\n",
       "      <th>polynomial degree 2</th>\n",
       "      <th>polynomial only interaction</th>\n",
       "      <th>lasso_lars</th>\n",
       "      <th>glm</th>\n",
       "    </tr>\n",
       "  </thead>\n",
       "  <tbody>\n",
       "    <tr>\n",
       "      <th>0</th>\n",
       "      <td>1663334</td>\n",
       "      <td>0.04901</td>\n",
       "      <td>983390.124531</td>\n",
       "      <td>410135.180989</td>\n",
       "      <td>931010.714799</td>\n",
       "      <td>935951.199147</td>\n",
       "      <td>952006.761725</td>\n",
       "      <td>449783.851861</td>\n",
       "    </tr>\n",
       "    <tr>\n",
       "      <th>1</th>\n",
       "      <td>45302</td>\n",
       "      <td>-0.003143</td>\n",
       "      <td>294426.378284</td>\n",
       "      <td>410135.180989</td>\n",
       "      <td>293207.372986</td>\n",
       "      <td>302881.887929</td>\n",
       "      <td>304346.928579</td>\n",
       "      <td>449783.851861</td>\n",
       "    </tr>\n",
       "    <tr>\n",
       "      <th>2</th>\n",
       "      <td>388528</td>\n",
       "      <td>0.002243</td>\n",
       "      <td>303877.866500</td>\n",
       "      <td>410135.180989</td>\n",
       "      <td>242519.921994</td>\n",
       "      <td>258440.924719</td>\n",
       "      <td>243292.550466</td>\n",
       "      <td>449783.851861</td>\n",
       "    </tr>\n",
       "    <tr>\n",
       "      <th>3</th>\n",
       "      <td>130715</td>\n",
       "      <td>-0.02305</td>\n",
       "      <td>325268.076672</td>\n",
       "      <td>410135.180989</td>\n",
       "      <td>326422.853321</td>\n",
       "      <td>333055.259481</td>\n",
       "      <td>334969.014207</td>\n",
       "      <td>449783.851861</td>\n",
       "    </tr>\n",
       "    <tr>\n",
       "      <th>4</th>\n",
       "      <td>407342</td>\n",
       "      <td>-0.023093</td>\n",
       "      <td>517282.521475</td>\n",
       "      <td>410135.180989</td>\n",
       "      <td>499389.755074</td>\n",
       "      <td>504174.009760</td>\n",
       "      <td>507417.168764</td>\n",
       "      <td>449783.851861</td>\n",
       "    </tr>\n",
       "  </tbody>\n",
       "</table>\n",
       "</div>"
      ],
      "text/plain": [
       "    actual  logerror      simple_lm   multiple_rfe  polynomial degree 2  \\\n",
       "0  1663334   0.04901  983390.124531  410135.180989        931010.714799   \n",
       "1    45302 -0.003143  294426.378284  410135.180989        293207.372986   \n",
       "2   388528  0.002243  303877.866500  410135.180989        242519.921994   \n",
       "3   130715  -0.02305  325268.076672  410135.180989        326422.853321   \n",
       "4   407342 -0.023093  517282.521475  410135.180989        499389.755074   \n",
       "\n",
       "   polynomial only interaction     lasso_lars            glm  \n",
       "0                935951.199147  952006.761725  449783.851861  \n",
       "1                302881.887929  304346.928579  449783.851861  \n",
       "2                258440.924719  243292.550466  449783.851861  \n",
       "3                333055.259481  334969.014207  449783.851861  \n",
       "4                504174.009760  507417.168764  449783.851861  "
      ]
     },
     "execution_count": 45,
     "metadata": {},
     "output_type": "execute_result"
    }
   ],
   "source": [
    "predictions.head()"
   ]
  },
  {
   "cell_type": "markdown",
   "id": "bc83ac41",
   "metadata": {},
   "source": [
    "<div class=\"alert alert-danger\">\n",
    "\n",
    "\n",
    "\n",
    "### TL;DR\n",
    "\n",
    "First of all, it always helps to know the distribution of your target variable before modeling.\n",
    "\n",
    "> `plt.hist(y_train)` to see the shape of your target (`y`).\n",
    "\n",
    "Secondly, you could try them all...doesn't hurt usually.\n",
    "\n",
    "Third, if you have a good feel for your data:\n",
    "- For a normally distributed y and a linear relationship: OLS, LassoLars, GLM(power=0) will work best.\n",
    "- For polynomial relationships, polynomial regression is best.\n",
    "- For poisson, gamma or inverse gaussian distributions, use the Generalized Linear Model."
   ]
  },
  {
   "cell_type": "code",
   "execution_count": 46,
   "id": "ab127cf0",
   "metadata": {
    "scrolled": false
   },
   "outputs": [
    {
     "data": {
      "text/plain": [
       "Index(['bedroomcnt', 'bathroomcnt', 'fullbathcnt', 'bed_bath_ratio',\n",
       "       'fireplacecnt', 'age', 'calculatedfinishedsquarefeet',\n",
       "       'lotsizesquarefeet', 'has_taxdelinquency', 'has_hottuborspa',\n",
       "       'has_basement', 'has_pool', 'fips', 'logerror', 'taxvaluedollarcnt',\n",
       "       'county_Los Angeles County', 'county_Orange County',\n",
       "       'county_Ventura County'],\n",
       "      dtype='object')"
      ]
     },
     "execution_count": 46,
     "metadata": {},
     "output_type": "execute_result"
    }
   ],
   "source": [
    "train.columns"
   ]
  },
  {
   "cell_type": "markdown",
   "id": "152a66b8",
   "metadata": {
    "slideshow": {
     "slide_type": "slide"
    }
   },
   "source": [
    "<div class=\"alert alert-success\">\n",
    "\n",
    "\n",
    "\n",
    "# Evaluation"
   ]
  },
  {
   "cell_type": "markdown",
   "id": "2dec8f5d",
   "metadata": {},
   "source": [
    "<div class=\"alert alert-warning\">\n",
    "\n",
    "\n",
    "## Baseline"
   ]
  },
  {
   "cell_type": "code",
   "execution_count": 47,
   "id": "a764a5b6",
   "metadata": {},
   "outputs": [],
   "source": [
    "# add a baseline model\n",
    "predictions['baseline'] = train.taxvaluedollarcnt.mean()"
   ]
  },
  {
   "cell_type": "code",
   "execution_count": 48,
   "id": "fc6b333d",
   "metadata": {
    "scrolled": true
   },
   "outputs": [
    {
     "data": {
      "text/html": [
       "<div>\n",
       "<style scoped>\n",
       "    .dataframe tbody tr th:only-of-type {\n",
       "        vertical-align: middle;\n",
       "    }\n",
       "\n",
       "    .dataframe tbody tr th {\n",
       "        vertical-align: top;\n",
       "    }\n",
       "\n",
       "    .dataframe thead th {\n",
       "        text-align: right;\n",
       "    }\n",
       "</style>\n",
       "<table border=\"1\" class=\"dataframe\">\n",
       "  <thead>\n",
       "    <tr style=\"text-align: right;\">\n",
       "      <th></th>\n",
       "      <th>actual</th>\n",
       "      <th>logerror</th>\n",
       "      <th>simple_lm</th>\n",
       "      <th>multiple_rfe</th>\n",
       "      <th>polynomial degree 2</th>\n",
       "      <th>polynomial only interaction</th>\n",
       "      <th>lasso_lars</th>\n",
       "      <th>glm</th>\n",
       "      <th>baseline</th>\n",
       "    </tr>\n",
       "  </thead>\n",
       "  <tbody>\n",
       "    <tr>\n",
       "      <th>0</th>\n",
       "      <td>1663334</td>\n",
       "      <td>0.04901</td>\n",
       "      <td>983390.124531</td>\n",
       "      <td>410135.180989</td>\n",
       "      <td>931010.714799</td>\n",
       "      <td>935951.199147</td>\n",
       "      <td>952006.761725</td>\n",
       "      <td>449783.851861</td>\n",
       "      <td>449783.851861</td>\n",
       "    </tr>\n",
       "    <tr>\n",
       "      <th>1</th>\n",
       "      <td>45302</td>\n",
       "      <td>-0.003143</td>\n",
       "      <td>294426.378284</td>\n",
       "      <td>410135.180989</td>\n",
       "      <td>293207.372986</td>\n",
       "      <td>302881.887929</td>\n",
       "      <td>304346.928579</td>\n",
       "      <td>449783.851861</td>\n",
       "      <td>449783.851861</td>\n",
       "    </tr>\n",
       "    <tr>\n",
       "      <th>2</th>\n",
       "      <td>388528</td>\n",
       "      <td>0.002243</td>\n",
       "      <td>303877.866500</td>\n",
       "      <td>410135.180989</td>\n",
       "      <td>242519.921994</td>\n",
       "      <td>258440.924719</td>\n",
       "      <td>243292.550466</td>\n",
       "      <td>449783.851861</td>\n",
       "      <td>449783.851861</td>\n",
       "    </tr>\n",
       "    <tr>\n",
       "      <th>3</th>\n",
       "      <td>130715</td>\n",
       "      <td>-0.02305</td>\n",
       "      <td>325268.076672</td>\n",
       "      <td>410135.180989</td>\n",
       "      <td>326422.853321</td>\n",
       "      <td>333055.259481</td>\n",
       "      <td>334969.014207</td>\n",
       "      <td>449783.851861</td>\n",
       "      <td>449783.851861</td>\n",
       "    </tr>\n",
       "    <tr>\n",
       "      <th>4</th>\n",
       "      <td>407342</td>\n",
       "      <td>-0.023093</td>\n",
       "      <td>517282.521475</td>\n",
       "      <td>410135.180989</td>\n",
       "      <td>499389.755074</td>\n",
       "      <td>504174.009760</td>\n",
       "      <td>507417.168764</td>\n",
       "      <td>449783.851861</td>\n",
       "      <td>449783.851861</td>\n",
       "    </tr>\n",
       "  </tbody>\n",
       "</table>\n",
       "</div>"
      ],
      "text/plain": [
       "    actual  logerror      simple_lm   multiple_rfe  polynomial degree 2  \\\n",
       "0  1663334   0.04901  983390.124531  410135.180989        931010.714799   \n",
       "1    45302 -0.003143  294426.378284  410135.180989        293207.372986   \n",
       "2   388528  0.002243  303877.866500  410135.180989        242519.921994   \n",
       "3   130715  -0.02305  325268.076672  410135.180989        326422.853321   \n",
       "4   407342 -0.023093  517282.521475  410135.180989        499389.755074   \n",
       "\n",
       "   polynomial only interaction     lasso_lars            glm       baseline  \n",
       "0                935951.199147  952006.761725  449783.851861  449783.851861  \n",
       "1                302881.887929  304346.928579  449783.851861  449783.851861  \n",
       "2                258440.924719  243292.550466  449783.851861  449783.851861  \n",
       "3                333055.259481  334969.014207  449783.851861  449783.851861  \n",
       "4                504174.009760  507417.168764  449783.851861  449783.851861  "
      ]
     },
     "execution_count": 48,
     "metadata": {},
     "output_type": "execute_result"
    }
   ],
   "source": [
    "predictions.head()"
   ]
  },
  {
   "cell_type": "markdown",
   "id": "8091d9b2",
   "metadata": {},
   "source": [
    "<div class=\"alert alert-warning\">\n",
    "\n",
    "\n",
    "## Calculate mean squared error for every column in the dataframe"
   ]
  },
  {
   "cell_type": "code",
   "execution_count": 74,
   "id": "851c4cc5",
   "metadata": {},
   "outputs": [
    {
     "data": {
      "text/plain": [
       "actual                         0.000000e+00\n",
       "polynomial degree 2            8.190023e+10\n",
       "polynomial only interaction    8.207193e+10\n",
       "lasso_lars                     8.228066e+10\n",
       "simple_lm                      8.479923e+10\n",
       "multiple_rfe                   1.221896e+11\n",
       "glm                            1.251606e+11\n",
       "baseline                       1.251606e+11\n",
       "logerror                       3.302344e+11\n",
       "dtype: float64"
      ]
     },
     "execution_count": 74,
     "metadata": {},
     "output_type": "execute_result"
    }
   ],
   "source": [
    "def calculate_mse(y_predicted):\n",
    "    return mean_squared_error(predictions.actual, y_predicted)\n",
    "\n",
    "predictions.apply(calculate_mse).sort_values()"
   ]
  },
  {
   "cell_type": "code",
   "execution_count": 50,
   "id": "70365336",
   "metadata": {},
   "outputs": [
    {
     "name": "stdout",
     "output_type": "stream",
     "text": [
      "RMSE using Mean\n",
      "Train/In-Sample:  354521.86 \n",
      "Validate/Out-of-Sample:  353780.47\n",
      "RMSE using Median\n",
      "Train/In-Sample:  363920.04 \n",
      "Validate/Out-of-Sample:  363893.41\n"
     ]
    }
   ],
   "source": [
    "# We need y_train and y_validate to be dataframes to append the new columns with predicted values. \n",
    "y_train = pd.DataFrame(y_train)\n",
    "y_validate = pd.DataFrame(y_validate)\n",
    "\n",
    "# 1. Predict target_pred_mean\n",
    "target_pred_mean = y_train['taxvaluedollarcnt'].mean()\n",
    "y_train['target_pred_mean'] = target_pred_mean\n",
    "y_validate['target_pred_mean'] = target_pred_mean\n",
    "\n",
    "# 2. compute target_pred_median\n",
    "target_pred_median = y_train['taxvaluedollarcnt'].median()\n",
    "y_train['target_pred_median'] = target_pred_median\n",
    "y_validate['target_pred_median'] = target_pred_median\n",
    "\n",
    "# 3. RMSE of target_pred_mean\n",
    "rmse_train = mean_squared_error(y_train.taxvaluedollarcnt, y_train.target_pred_mean)**(1/2)\n",
    "rmse_validate = mean_squared_error(y_validate.taxvaluedollarcnt, y_validate.target_pred_mean)**(1/2)\n",
    "\n",
    "print(\"RMSE using Mean\\nTrain/In-Sample: \", round(rmse_train, 2), \n",
    "      \"\\nValidate/Out-of-Sample: \", round(rmse_validate, 2))\n",
    "\n",
    "# 4. RMSE of G3_pred_median\n",
    "rmse_train = mean_squared_error(y_train.taxvaluedollarcnt, y_train.target_pred_median)**(1/2)\n",
    "rmse_validate = mean_squared_error(y_validate.taxvaluedollarcnt, y_validate.target_pred_median)**(1/2)\n",
    "\n",
    "print(\"RMSE using Median\\nTrain/In-Sample: \", round(rmse_train, 2), \n",
    "      \"\\nValidate/Out-of-Sample: \", round(rmse_validate, 2))"
   ]
  },
  {
   "cell_type": "code",
   "execution_count": 51,
   "id": "033a56c3",
   "metadata": {},
   "outputs": [
    {
     "data": {
      "image/png": "[encoded data removed]",
      "text/plain": [
       "<Figure size 432x288 with 1 Axes>"
      ]
     },
     "metadata": {
      "image/png": {
       "height": 261,
       "width": 401
      },
      "needs_background": "light"
     },
     "output_type": "display_data"
    }
   ],
   "source": [
    "# plot to visualize actual vs predicted. \n",
    "plt.hist(y_train.taxvaluedollarcnt, color='blue', alpha=.5, label=\"Actual Tax Assessment Value\")\n",
    "plt.hist(y_train.target_pred_mean, bins=1, color='red', alpha=.5, rwidth=100, label=\"Predicted Tax Assessment Value - Mean\")\n",
    "plt.hist(y_train.target_pred_median, bins=1, color='orange', alpha=.5, rwidth=100, label=\"Predicted Tax Assessment Value - Median\")\n",
    "plt.xlabel(\"Tax Assessment Value (target)\")\n",
    "plt.ylabel(\"Number of Homes\")\n",
    "plt.legend()\n",
    "plt.show()"
   ]
  },
  {
   "cell_type": "markdown",
   "id": "0f2b2bb4",
   "metadata": {
    "slideshow": {
     "slide_type": "slide"
    }
   },
   "source": [
    "<div class=\"alert alert-danger\">\n",
    "\n",
    "\n",
    "\n",
    "## Evaluate on Test: Best Model (2nd Degree Polynomial)\n",
    "\n",
    "Notice this gets a bit more complicated as we have to reproduce any transformations to the data we did when training. Polynomial transformations need to be applied to the test dataframe to evaluate the polynomial model. "
   ]
  },
  {
   "cell_type": "markdown",
   "id": "a56b8387",
   "metadata": {},
   "source": [
    "# re-create our polynomial model\n",
    "X_train = train[['bedroomcnt', 'bathroomcnt', 'calculatedfinishedsquarefeet']]\n",
    "y_train = train.taxvaluedollarcnt\n",
    "\n",
    "poly = PolynomialFeatures(degree=2, include_bias=False, interaction_only=False)\n",
    "poly.fit(X_train)\n",
    "X_train_poly = pd.DataFrame(\n",
    "    poly.transform(X_train),\n",
    "    columns=poly.get_feature_names(X_train.columns),\n",
    "    index=train.index,\n",
    ")\n",
    "\n",
    "lm = LinearRegression()\n",
    "lm.fit(X_train_poly, y_train)"
   ]
  },
  {
   "cell_type": "markdown",
   "id": "e7408d59",
   "metadata": {},
   "source": [
    "# any transformations applied to your training data must be applied to the test as well\n",
    "\n",
    "X_test = test[['bedroomcnt', 'bathroomcnt', 'calculatedfinishedsquarefeet']]\n",
    "X_test_poly = poly.transform(X_test)\n",
    "\n",
    "test_predictions = lm.predict(X_test_poly)\n",
    "test_actual = test.taxvaluedollarcnt"
   ]
  },
  {
   "cell_type": "markdown",
   "id": "2e9ca92c",
   "metadata": {},
   "source": [
    "mean_squared_error(test_actual, test_predictions)"
   ]
  }
 ],
 "metadata": {
  "kernelspec": {
   "display_name": "Python 3 (ipykernel)",
   "language": "python",
   "name": "python3"
  },
  "language_info": {
   "codemirror_mode": {
    "name": "ipython",
    "version": 3
   },
   "file_extension": ".py",
   "mimetype": "text/x-python",
   "name": "python",
   "nbconvert_exporter": "python",
   "pygments_lexer": "ipython3",
   "version": "3.9.12"
  }
 },
 "nbformat": 4,
 "nbformat_minor": 5
}
